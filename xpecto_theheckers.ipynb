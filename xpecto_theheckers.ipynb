{
  "nbformat": 4,
  "nbformat_minor": 0,
  "metadata": {
    "colab": {
      "provenance": []
    },
    "kernelspec": {
      "name": "python3",
      "display_name": "Python 3"
    },
    "language_info": {
      "name": "python"
    }
  },
  "cells": [
    {
      "cell_type": "code",
      "execution_count": 7,
      "metadata": {
        "id": "cY32MOCqvS8C",
        "colab": {
          "base_uri": "https://localhost:8080/"
        },
        "outputId": "d78a74bf-bbe5-4805-aad8-da261f08f65f"
      },
      "outputs": [
        {
          "output_type": "stream",
          "name": "stdout",
          "text": [
            "LLM Answer: No, a baby girl does not have XY chromosomes. Girls have XX chromosomes. The X and Y chromosomes are sex chromosomes; females inherit one X chromosome from each parent, resulting in XX, while males inherit one X from their mother and one Y from their father, resulting in XY.\n"
          ]
        }
      ],
      "source": [
        "import requests\n",
        "\n",
        "API_KEY = \"YOUR_API_KEY\"\n",
        "BASE_URL = \"https://llm-gateway.heurist.xyz/chat/completions\"\n",
        "\n",
        "def query_heurist_llm(prompt, model=\"qwen/qwen-2.5-coder-32b-instruct\"):\n",
        "    \"\"\"Query the Qwen LLM for an answer.\"\"\"\n",
        "    payload = {\n",
        "        \"model\": model,\n",
        "        \"messages\": [{\"role\": \"user\", \"content\": prompt}],\n",
        "        \"temperature\": 0.7,\n",
        "        \"max_tokens\": 500\n",
        "    }\n",
        "\n",
        "    headers = {\n",
        "        \"Authorization\": f\"Bearer {API_KEY}\",\n",
        "        \"Content-Type\": \"application/json\"\n",
        "    }\n",
        "\n",
        "    response = requests.post(BASE_URL, json=payload, headers=headers)\n",
        "    if response.status_code == 200:\n",
        "        return response.json().get(\"choices\", [{}])[0].get(\"message\", {}).get(\"content\", \"No response\")\n",
        "    else:\n",
        "        return f\"Error: {response.status_code}, {response.text}\"\n",
        "\n",
        "# Example usage\n",
        "question = \"Does a babygirl has XY chromosome?\"\n",
        "llm_answer = query_heurist_llm(question)\n",
        "print(\"LLM Answer:\", llm_answer)"
      ]
    },
    {
      "cell_type": "code",
      "source": [
        "!pip install duckduckgo-search"
      ],
      "metadata": {
        "colab": {
          "base_uri": "https://localhost:8080/"
        },
        "id": "WN-O58X-wELy",
        "outputId": "c437d577-40b2-48ce-cf2a-183ea63de41f"
      },
      "execution_count": 8,
      "outputs": [
        {
          "output_type": "stream",
          "name": "stdout",
          "text": [
            "Requirement already satisfied: duckduckgo-search in /usr/local/lib/python3.11/dist-packages (7.5.5)\n",
            "Requirement already satisfied: click>=8.1.8 in /usr/local/lib/python3.11/dist-packages (from duckduckgo-search) (8.1.8)\n",
            "Requirement already satisfied: primp>=0.14.0 in /usr/local/lib/python3.11/dist-packages (from duckduckgo-search) (0.14.0)\n",
            "Requirement already satisfied: lxml>=5.3.0 in /usr/local/lib/python3.11/dist-packages (from duckduckgo-search) (5.3.1)\n"
          ]
        }
      ]
    },
    {
      "cell_type": "code",
      "source": [
        "from duckduckgo_search import DDGS\n",
        "\n",
        "def search_duckduckgo(query, max_results=3):\n",
        "    \"\"\"Fetch search results from DuckDuckGo.\"\"\"\n",
        "    with DDGS() as ddgs:\n",
        "        results = list(ddgs.text(query, max_results=max_results))\n",
        "    return results if results else [{\"title\": \"No results\", \"link\": \"\", \"snippet\": \"No relevant information found.\"}]\n",
        "\n",
        "# Get search results\n",
        "duckduckgo_results = search_duckduckgo(question)\n",
        "print(\"DuckDuckGo Results:\", duckduckgo_results)"
      ],
      "metadata": {
        "id": "73vCDeThvfm5",
        "colab": {
          "base_uri": "https://localhost:8080/"
        },
        "outputId": "a625fda4-6a1c-45f7-d990-dd2d66839b89"
      },
      "execution_count": 9,
      "outputs": [
        {
          "output_type": "stream",
          "name": "stdout",
          "text": [
            "DuckDuckGo Results: [{'title': 'What Are Sex Chromosomes (XX and XY Chromosomes)? - WebMD', 'href': 'https://www.webmd.com/sex/xx-and-xy-chromosomes', 'body': \"Sex chromosomes are the genetic elements that define a person's biological sex. Learn about the XX and XY chromosomes, the sex determination system, and other chromosome combinations.\"}, {'title': 'How Is Your Sex Determined? | Ask A Biologist', 'href': 'https://askabiologist.asu.edu/embryo-tales/sex-chromosomes', 'body': 'People usually have two sex chromosomes. Typically, embryos with one X and one Y chromosome develop into males. And those with two X chromosomes usually become females. We get one sex chromosome from our fathers, carried by sperm, and one from our mothers, carried by the egg.'}, {'title': \"New Study Shows Why X And Y Chromosomes Alone Don't Determine a Baby's ...\", 'href': 'https://www.sciencealert.com/a-baby-s-sex-is-about-more-than-just-its-x-and-y-chromosomes-new-research-reveals', 'body': 'In the standard course of events, an embryo with two X chromosomes becomes a girl, while an embryo with an X and a Y chromosome becomes a boy - but the new gene and the genes it relates to can interfere with that process.'}]\n"
          ]
        }
      ]
    },
    {
      "cell_type": "code",
      "source": [
        "import json\n",
        "\n",
        "def query_deepseek_llm(question, llm_answer, duckduckgo_results):\n",
        "    \"\"\"Use DeepSeek LLM to compare the answer with DuckDuckGo search results.\"\"\"\n",
        "    comparison_prompt = f\"\"\"\n",
        "    The LLM answered: \"{llm_answer}\"\n",
        "    DuckDuckGo search results provided the following snippets:\n",
        "    {json.dumps(duckduckgo_results, indent=2)}\n",
        "\n",
        "    Based on these, classify the LLM's response as one of the following:\n",
        "    - \"Correct\" if it matches DuckDuckGo results\n",
        "    - \"Uncertain\" if there's partial confirmation\n",
        "    - \"Hallucinated\" if it's not supported at all\n",
        "    Provide only the classification as output.\n",
        "    \"\"\"\n",
        "\n",
        "    return query_heurist_llm(comparison_prompt, model=\"deepseek/deepseek-r1\")\n",
        "\n",
        "# Compare the LLM answer\n",
        "deepseek_verification = query_deepseek_llm(question, llm_answer, duckduckgo_results)\n",
        "print(\"DeepSeek Comparison:\", deepseek_verification)"
      ],
      "metadata": {
        "colab": {
          "base_uri": "https://localhost:8080/"
        },
        "id": "bJhW2OGjvvvs",
        "outputId": "5af4bd11-9528-4203-e809-643424dc1156"
      },
      "execution_count": 10,
      "outputs": [
        {
          "output_type": "stream",
          "name": "stdout",
          "text": [
            "DeepSeek Comparison: <think>\n",
            "Okay, let's check the LLM's answer against the search results. The LLM said that a baby girl has XX chromosomes and explained that females inherit one X from each parent, while males get X from mom and Y from dad.\n",
            "\n",
            "Looking at the first DuckDuckGo result from WebMD, it mentions that XX and XY are sex chromosomes, with females typically being XX and males XY. That matches the LLM's statement.\n",
            "\n",
            "The second snippet from Ask A Biologist confirms that two X chromosomes usually result in female development, and one X and one Y in male. Again, this aligns with the LLM's response.\n",
            "\n",
            "The third link from ScienceAlert adds that typically XX becomes a girl and XY a boy, though other genes can interfere. The LLM didn't mention exceptions, but the core statement about XX and XY is consistent.\n",
            "\n",
            "All three sources support the basic claim that girls have XX and boys have XY. The LLM's answer doesn't present conflicting information, so it should be classified as correct.\n",
            "</think>\n",
            "\n",
            "Correct\n"
          ]
        }
      ]
    },
    {
      "cell_type": "code",
      "source": [],
      "metadata": {
        "id": "kmP3RLlMwHPe"
      },
      "execution_count": null,
      "outputs": []
    }
  ]
}